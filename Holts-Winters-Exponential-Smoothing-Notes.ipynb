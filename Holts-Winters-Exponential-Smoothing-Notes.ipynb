{
 "cells": [
  {
   "cell_type": "markdown",
   "metadata": {},
   "source": [
    "## Forecasting Methods\n",
    "\n",
    "- **Naive Method**\n",
    "    - The most primitive forecasting method\n",
    "    - The expected value is equal to the last observed value\n",
    "    \n",
    "- **Simple Average**\n",
    "    - Less primitive method\n",
    "    - Take the arithmetic mean of all the previously observed data points.\n",
    "    - Use that calculated arithmetic mean as the predicted value\n",
    "    \n",
    "- **Moving Average**\n",
    "    - Improvement over simple average\n",
    "    - Take average of last n observations\n",
    "    - Involves sliding windows or rolling method of pandas\n",
    "    \n",
    "- **Weighted Moving Average**\n",
    "    - Is the moving average where within the sliding window values are given different weights, typically so that more recent points matter more.\n",
    "    - Instead of selecting a window size, it requires a list of weights(**These weights should add up to 1**).\n",
    "    - Example: [0.1, 0.2, 0.3, 0.4] gives weights to the last 4 observations and the highest is given to the most recent one\n",
    "    \n",
    "    \n",
    "- **Single Exponential Smoothing**\n",
    "    - Just like weighted moving average with two weights: $a$ and $(1-a)$\n",
    "    - $a$ is the smoothing factor or the smoothing coefficient\n",
    "    - The equation is given as:\n",
    "        \n",
    "        $ŷ_x=α⋅y_x+(1−α)⋅ŷ_x-1$"
   ]
  },
  {
   "cell_type": "markdown",
   "metadata": {},
   "source": [
    "- **Terminologies**\n",
    "    - Level:\n",
    "        - Expected Value. \n",
    "        - Can also be referred to as baseline, intercept\n",
    "        - referred using l\n",
    "    - Trend:\n",
    "        - Can also be reffered as slope\n",
    "        - delta y over delta x. In time series, delta x is always going to be one, so slope is delta y\n",
    "        - referred using b\n",
    "    - Additive Vs Multiplicative:\n",
    "        - Additive is getting the difference between y_(x-1) and y_x whereas multiplicative is the ration between two\n",
    "        - Practice show that multiplicative is more stable predictor"
   ]
  },
  {
   "cell_type": "markdown",
   "metadata": {},
   "source": [
    "**More Forecasting Methods:**\n",
    "\n",
    "- **Double Exponential Smoothing**\n",
    "    - "
   ]
  },
  {
   "cell_type": "code",
   "execution_count": null,
   "metadata": {},
   "outputs": [],
   "source": []
  }
 ],
 "metadata": {
  "kernelspec": {
   "display_name": "Python 3",
   "language": "python",
   "name": "python3"
  },
  "language_info": {
   "codemirror_mode": {
    "name": "ipython",
    "version": 3
   },
   "file_extension": ".py",
   "mimetype": "text/x-python",
   "name": "python",
   "nbconvert_exporter": "python",
   "pygments_lexer": "ipython3",
   "version": "3.7.6"
  }
 },
 "nbformat": 4,
 "nbformat_minor": 4
}
