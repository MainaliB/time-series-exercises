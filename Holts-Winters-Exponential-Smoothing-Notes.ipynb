{
 "cells": [
  {
   "cell_type": "markdown",
   "metadata": {},
   "source": [
    "## Forecasting Methods\n",
    "\n",
    "- **Naive Method**\n",
    "    - The most primitive forecasting method\n",
    "    - The expected value is equal to the last observed value\n",
    "    \n",
    "- **Simple Average**\n",
    "    - Less primitive method\n",
    "    - Take the arithmetic mean of all the previously observed data points.\n",
    "    - Use that calculated arithmetic mean as the predicted value\n",
    "    \n",
    "- **Moving Average**\n",
    "    - Improvement over simple average\n",
    "    - Take average of last n observations\n",
    "    - Involves sliding windows or rolling method of pandas\n",
    "    \n",
    "- **Weighted Moving Average**\n",
    "    - Is the moving average where within the sliding window values are given different weights, typically so that more recent points matter more.\n",
    "    - Instead of selecting a window size, it requires a list of weights(**These weights should add up to 1**).\n",
    "    - Example: [0.1, 0.2, 0.3, 0.4] gives weights to the last 4 observations and the highest is given to the most recent one\n",
    "    \n",
    "    \n",
    "- **Single Exponential Smoothing**\n",
    "    - Just like weighted moving average with two weights: $a$ and $(1-a)$\n",
    "    - $a$ is the smoothing factor or the smoothing coefficient\n",
    "    - The equation is given as:\n",
    "        \n",
    "        $ŷ_x=α⋅y_x+(1−α)⋅ŷ_x-1$"
   ]
  },
  {
   "cell_type": "code",
   "execution_count": null,
   "metadata": {},
   "outputs": [],
   "source": []
  },
  {
   "cell_type": "code",
   "execution_count": null,
   "metadata": {},
   "outputs": [],
   "source": []
  }
 ],
 "metadata": {
  "kernelspec": {
   "display_name": "Python 3",
   "language": "python",
   "name": "python3"
  },
  "language_info": {
   "codemirror_mode": {
    "name": "ipython",
    "version": 3
   },
   "file_extension": ".py",
   "mimetype": "text/x-python",
   "name": "python",
   "nbconvert_exporter": "python",
   "pygments_lexer": "ipython3",
   "version": "3.7.6"
  }
 },
 "nbformat": 4,
 "nbformat_minor": 4
}
